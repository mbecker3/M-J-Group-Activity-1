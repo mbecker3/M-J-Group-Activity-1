{
 "cells": [
  {
   "cell_type": "code",
   "execution_count": null,
   "metadata": {
    "collapsed": true
   },
   "outputs": [],
   "source": [
    "# Assignment 3\n",
    "# Introduction to functions\n",
    "# Due at 8am on February 27, 2018\n",
    "\n",
    "# Notes about assignment:\n",
    "# - To ensure good commenting practice, one point from each\n",
    "# question will be awarded for sufficient comments.\n",
    "# - Example input data is provided, however, the functions\n",
    "# should be made flexible to handle alternative data. For example,\n",
    "# lists with more or fewer elements.\n",
    "# - All questions in this assignment need to be divided up between\n",
    "# the two partners. Ensure that the total points for each partner\n",
    "# add up to the same value.\n",
    "# - All partners need to participate in question 17.\n"
   ]
  },
  {
   "cell_type": "code",
   "execution_count": null,
   "metadata": {
    "collapsed": true
   },
   "outputs": [],
   "source": [
    "# Question 1: (2 points)\n",
    "# create a function called \"shift_list\" that\n",
    "# that takes one argument, a list of numbers.\n",
    "# this function will add 3 to each element in a list.\n",
    "\n",
    "\n",
    "# example data to use\n",
    "data = [1,6,7,6,2,4,5,3]    \n",
    "# call function\n",
    "\n",
    "shift_list = [x+3 for x in data]\n",
    "print shift_list\n",
    "\n"
   ]
  },
  {
   "cell_type": "code",
   "execution_count": null,
   "metadata": {
    "collapsed": true
   },
   "outputs": [],
   "source": [
    "# Question 2: (2 points)\n",
    "# create a function called \"truncate_list\" that\n",
    "# that takes one argument, a list of strings.\n",
    "# this function will truncate all elements in \n",
    "# the list by 3 characters\n",
    "\n",
    "\n",
    "# example data to use\n",
    "countries = ['Canada','United States','Spain','Germany','Brazil','China']\n",
    "# call function\n",
    "#set truncate_list equal to a lambda function so that it only prints the first 3 letters of the countries \n",
    "truncate_list = map(lambda x: x[:3],countries)\n",
    "print truncate_list\n"
   ]
  },
  {
   "cell_type": "code",
   "execution_count": null,
   "metadata": {
    "collapsed": true
   },
   "outputs": [],
   "source": [
    "# Question 3: (2 points)\n",
    "# create a function called \"is_even_length_dict\" that\n",
    "# that takes one argument, a dictionary.\n",
    "# this function will return True if the number of keys in the dictionary  \n",
    "# is even and return False if the number of keys in the dictionary is odd.\n",
    "\n",
    "\n",
    "# example data to use\n",
    "data_dict = {'Age':[77,56,34,45,52,61],\n",
    "             'BMI':[22,25,28,26,21,24],\n",
    "             'Height':[65,72,68,65,61,69]}\n",
    "# call function\n",
    "is_even_length_dict(data_dict)\n"
   ]
  },
  {
   "cell_type": "code",
   "execution_count": null,
   "metadata": {
    "collapsed": true
   },
   "outputs": [],
   "source": [
    "# Question 4: (2 points)\n",
    "# create a function called \"is_even_length_list\" that\n",
    "# that takes one argument, a list.\n",
    "# this function will return True if the length of the list  \n",
    "# is even and return False if the length of the list is odd.\n",
    "\n",
    "\n",
    "# example data to use\n",
    "data = [1,6,7,6,2,4,5,3]    \n",
    "# call function\n",
    "is_even_length_list(data)\n",
    "#set is_even_length_list and filter the data and append to figure out if the length of the list is even or odd\n",
    "is_even_length_list=[]\n",
    "if len(data) % 2 == 0:\n",
    "    is_even_length_list.append('True')\n",
    "else:\n",
    "    is_even_length_list.append('False')\n",
    "print is_even_length_list\n",
    "    "
   ]
  },
  {
   "cell_type": "code",
   "execution_count": null,
   "metadata": {
    "collapsed": true
   },
   "outputs": [],
   "source": [
    "# Question 5: (5 points)\n",
    "# create a function called \"average_dict\" that\n",
    "# that takes one argument, a dictionary where the\n",
    "# keys are variable names and the values are lists of numbers.\n",
    "# this function will print the key, and the average of the values\n",
    "# for that key, respectively.\n",
    "\n",
    "\n",
    "# example data to use\n",
    "data_dict = {'Age':[77,56,34,45,52,61],\n",
    "             'BMI':[22,25,28,26,21,24],\n",
    "             'Height':[65,72,68,65,61,69]}\n",
    "# call function\n",
    "average_dict(data_dict)\n",
    "\n"
   ]
  },
  {
   "cell_type": "code",
   "execution_count": null,
   "metadata": {
    "collapsed": true
   },
   "outputs": [],
   "source": [
    "# Question 6: (5 points)\n",
    "# create a function called \"range_dict\" that\n",
    "# that takes one argument, a dictionary where the\n",
    "# keys are variable names and the values are lists of numbers.\n",
    "# this function will print the key, and the range (maximum - minimum) \n",
    "# of the values for each key, respectively.\n",
    "\n",
    "\n",
    "\n",
    "# example data to use\n",
    "data_dict = {'Age':[77,56,34,45,52,61],\n",
    "             'BMI':[22,25,28,26,21,24],\n",
    "             'Height':[65,72,68,65,61,69]}\n",
    "# call function\n",
    "\n",
    "#set range_dict equal to an empty bracket, and use for loops to append the keys to range_dict\n",
    "#then you can use the raw input to find the range of the values for each key\n",
    "range_dict=[]\n",
    "for key in data_dict:\n",
    "    range_dict.append(key)\n",
    "\n",
    "range_dict = raw_input(\"Provide data\")\n",
    "for key in list.values():\n",
    "    if key == range_dict:\n",
    "        name = list[key]\n",
    "        print range_dict"
   ]
  },
  {
   "cell_type": "code",
   "execution_count": null,
   "metadata": {
    "collapsed": true
   },
   "outputs": [],
   "source": [
    "# Question 7: (5 points)\n",
    "# create a function called \"frequency_list\" that\n",
    "# that takes one argument, a list of strings.\n",
    "# this function will identify the unique strings in \n",
    "# the list and count the frequency of that element in \n",
    "# the list. frequency_list will return a dictionary\n",
    "# such that the key = string and the value = frequency\n",
    "\n",
    "\n",
    "# example data to use\n",
    "factor_list = ['A','B','A','D','C','E','E','D','C','D',\n",
    "               'C','B','E','D','F','G','E','D','F','C',\n",
    "               'G','C','C','F']\n",
    "\n",
    "# call function\n",
    "factor_frequency = frequency_list(factor_list)\n",
    "frequency_list=[]\n"
   ]
  },
  {
   "cell_type": "code",
   "execution_count": null,
   "metadata": {
    "collapsed": true
   },
   "outputs": [],
   "source": [
    "# Question 8: (5 points)\n",
    "# create a function called \"make_factor_values_dict\" that\n",
    "# that takes two arguments, a list of factors and a list of values.\n",
    "# this function will identify the unique strings in \n",
    "# the list of factors as keys. For each key, a list of values \n",
    "# corresponding to the factor level will be assigned.\n",
    "# make_factor_values_dict will return a dictionary\n",
    "# such that the key = string and the value = list of values\n",
    "\n",
    "\n",
    "# example data to use\n",
    "factor_list = ['A','B','A','D','C','E','E','D','C','D',\n",
    "               'C','B','E','D','F','G','E','D','F','C',\n",
    "               'G','C','C','F']\n",
    "values_list = [19,61,75,66,28,43,52,35,66,86,44,56,1,93,27,47,28,20,12,73,44,32,75,10] \n",
    "# call function\n",
    "factor_values = make_factor_values_dict(factor_list, values_list)\n",
    "#set factorvaluedict equal to an empty bracket, then use a for loop to append the factors in factor_list to factorvaluedict\n",
    "factorvaluedict=[]\n",
    "for factors in factor_list:\n",
    "    factorvaluedict.append(factor_list)\n",
    "#use the zip function to set the keys equal to strings and values equal to a list\n",
    "factorvaluedict = dict(zip(factor_list, values_list))\n",
    "print factorvaluedict\n"
   ]
  },
  {
   "cell_type": "code",
   "execution_count": null,
   "metadata": {
    "collapsed": true
   },
   "outputs": [],
   "source": [
    "# Question 9: (6 points)\n",
    "# create a function called \"quartiles_list\" that\n",
    "# takes one argument, a list of numbers.\n",
    "# this function will summarize the elements in \n",
    "# the list by printing the quartiles (Q1, Q2, Q3)\n",
    "\n",
    "\n",
    "# example data to use\n",
    "data = [19,61,75,66,28,43,52,35,66,86,44,56,1,93,27,47,28,20,12,73,44] \n",
    "# call function\n",
    "quartiles_list(data)\n"
   ]
  },
  {
   "cell_type": "code",
   "execution_count": null,
   "metadata": {
    "collapsed": true
   },
   "outputs": [],
   "source": [
    "# Question 10: (6 points)\n",
    "# create a function called \"percentile_list\" that\n",
    "# takes one argument, a list of numbers.\n",
    "# this function will summarize the elements in \n",
    "# the list by printing the percentiles (20%, 40%, 60%, 80%)\n",
    "\n",
    "\n",
    "# example data to use\n",
    "data = [19,61,75,66,28,43,52,35,66,86,44,56,1,93,27,47,28,20,12,73,44] \n",
    "# call function\n",
    "\n",
    "# append the example data to percentile_list\n",
    "percentile_list=[]\n",
    "for numbers in data:\n",
    "    percentile_list.append(numbers)\n",
    "    print percentile_list\n",
    "#import numpy function as np and use to find the percentiles\n",
    "import numpy as np\n",
    "a = np.array(data)\n",
    "p = np.percentile(a, 20) \n",
    "print p\n",
    "q = np.percentile(a, 40)\n",
    "print q\n",
    "r = np.percentile(a, 60)\n",
    "print r\n",
    "s = np.percentile(a, 80)\n",
    "print s\n",
    "\n"
   ]
  },
  {
   "cell_type": "code",
   "execution_count": null,
   "metadata": {
    "collapsed": true
   },
   "outputs": [],
   "source": [
    "# Question 11: (8 points)\n",
    "# create a function called \"center_list\" that\n",
    "# takes one required argument, a list of numbers\n",
    "# and an optional argument, a number to center on.\n",
    "# this function will return a list that has moved all values such that the\n",
    "# mean of the elements is either 0 (Zero) if no option is\n",
    "# provided or the value provided as an optional argument.\n",
    "\n",
    "\n",
    "# example data to use\n",
    "data = [19,61,75,66,28,43,52,35,66,86,44,56,1,93,27,47,28,20,12,73,44] \n",
    "# call function\n",
    "center_list(data)\n",
    "center_list(data, center=5)"
   ]
  },
  {
   "cell_type": "code",
   "execution_count": null,
   "metadata": {
    "collapsed": true
   },
   "outputs": [],
   "source": [
    "# Question 12: (8 points)\n",
    "# create a function called \"scale_list\" that\n",
    "# takes one required argument, a list of numbers\n",
    "# and an optional argument, a maximum value for the range.\n",
    "# this function will return a list that has moved all values such that the\n",
    "# range of the elements is either 1 (Zero through one) if no option is\n",
    "# provided or the range is zero through the value provided \n",
    "# as an optional argument.\n",
    "\n",
    "\n",
    "# example data to use\n",
    "data = [19,61,75,66,28,43,52,35,66,86,44,56,1,93,27,47,28,20,12,73,44] \n",
    "# call function\n",
    "scale_list(data)\n",
    "scale_list(data, max_range=5)\n",
    "#append the example data to scale_list\n",
    "scale_list=[]\n",
    "for numbers in data:\n",
    "    scale_list.append(data)\n",
    "#filter the data so that the function returns a list of the elements between zero and one\n",
    "max(scale_list(data) for numbers in range(1, 86))\n",
    "    if number > 0 or number < 1\n",
    "    print scale_list\n"
   ]
  },
  {
   "cell_type": "code",
   "execution_count": null,
   "metadata": {
    "collapsed": true
   },
   "outputs": [],
   "source": [
    "# Question 13: (8 points)\n",
    "# create a function called \"summarize_list\" that\n",
    "# that takes one argument, a list of numbers and one optional\n",
    "# arguement \"verbose\", where if True the summary stats will \n",
    "# be print to screen.  the summary stats of interest are \n",
    "# the min, max, and mean. this function will return all\n",
    "# three values.\n",
    " \n",
    "\n",
    "\n",
    "# example data to use\n",
    "data = [19,61,75,66,28,43,52,35,66,86,44,56,1,93,27,47,28,20,12,73,44] \n",
    "# call function\n",
    "minval, maxval, meanval = summarize_list(data)\n",
    "minval, maxval, meanval = summarize_list(data, verbose=True)\n"
   ]
  },
  {
   "cell_type": "code",
   "execution_count": null,
   "metadata": {
    "collapsed": true
   },
   "outputs": [],
   "source": [
    "# Question 14: (8 points)\n",
    "# create a function called \"compute_quartiles\" that\n",
    "# that takes one argument, a list of numbers and one optional\n",
    "# arguement \"verbose\", where if True the summary stats will \n",
    "# be print to screen.  the quartiles of interest are \n",
    "# Q1, Q2 an Q3. this function will return all\n",
    "# three values.\n",
    " \n",
    "\n",
    "\n",
    "# example data to use\n",
    "data = [19,61,75,66,28,43,52,35,66,86,44,56,1,93,27,47,28,20,12,73,44] \n",
    "# call function\n",
    "q1, q2, q3 = compute_quartiles(data)\n",
    "q1, q2, q3 = compute_quartiles(data, verbose=True)\n",
    "\n",
    "#append the example data to compute_quartiles\n",
    "compute_quartiles=[]\n",
    "for numbers in data:\n",
    "    compute_quartiles.append(data)\n",
    "#define compute_quartiles with the quartiles function\n",
    "    def quartiles(compute_quartiles):\n",
    "    print compute_quartiles\n",
    "#filter compute_quartiles so that the True argument will print the summary stats\n",
    "    if not compute_quartiles:\n",
    "    raise StatsError('no data points passed')\n",
    "  sortedPoints = sorted(compute_quartiles)\n",
    "  mid = len(compute_quartiles) / 2\n",
    "    print compute_quartiles\n"
   ]
  },
  {
   "cell_type": "code",
   "execution_count": null,
   "metadata": {
    "collapsed": true
   },
   "outputs": [],
   "source": [
    "# Question 15: (10 points)\n",
    "# create a function called \"scale_subset_list\" that\n",
    "# that takes two argument, a list of factors and a list of values\n",
    "# and an optional argument 'include', a set containing the factors to be scaled.\n",
    "# if no set is provided, all factors will be included.\n",
    "# this function will for each factor level scale the values corresponding\n",
    "# to the factor to a range of zero through one. The scaled values for\n",
    "# each factor of interest will be summrized (min,max,mean) and print to screen.\n",
    "# two lists, one containing the centered values and one containing the factors \n",
    "# for the factor levels of interest will be returned.\n",
    "\n",
    "\n",
    "# example data to use\n",
    "factor_list = ['A','B','A','D','C','E','E','D','C','D',\n",
    "               'C','B','E','D','F','G','E','D','F','C',\n",
    "               'G','C','C','F']\n",
    "values_list = [19,61,75,66,28,43,52,35,66,86,44,56,1,93,27,47,28,20,12,73,44,32,75,10] \n",
    "# call function\n",
    "scale_subset_list(values_list, factor_list)\n",
    "scale_values, subset_factors = scale_subset_list(values_list, factor_list, include=set(['A','B','C']))\n"
   ]
  },
  {
   "cell_type": "code",
   "execution_count": null,
   "metadata": {
    "collapsed": true
   },
   "outputs": [],
   "source": [
    "# Question 16: (10 points)\n",
    "# create a function called \"center_subset_list\" that\n",
    "# that takes two argument, a list of factors and a list of values\n",
    "# and an optional argument 'include', a set containing the factors to be centered.\n",
    "# if no set is provided, all factors will be included.\n",
    "# this function will for each factor level center the values corresponding\n",
    "# to the factor to zero. The scaled values for\n",
    "# each factor of interest will be summrized (min,max,mean) and print to screen. \n",
    "# two lists, one containing the centered values and one containing the factors\n",
    "#for the factor levels of interest will be returned.\n",
    "\n",
    "\n",
    "# example data to use\n",
    "factor_list = ['A','B','A','D','C','E','E','D','C','D',\n",
    "               'C','B','E','D','F','G','E','D','F','C',\n",
    "               'G','C','C','F']\n",
    "values_list = [19,61,75,66,28,43,52,35,66,86,44,56,1,93,27,47,28,20,12,73,44,32,75,10] \n",
    "# call function\n",
    "center_subset_list(values_list, factor_list)\n",
    "subset_values, subset_factors = center_subset_list(values_list, factor_list, include=set(['A','B','C']))\n",
    "#append the example data from factor_list to center_subset_list\n",
    "center_subset_list=[]\n",
    "for factors in factor_list:\n",
    "    center_subset_list.append(factor_list)\n",
    "    #import reduce from functools to define factors and use the reduce function to summarize the two lists, and describe the center_subset_list\n",
    "    from functools import reduce\n",
    "\n",
    "def factors(n):    \n",
    "    return set(reduce(center_subset_list, \n",
    "                ([i, n//i] for i in range(1, int(pow(n, 0.5) + 1)) if n % i == 0)))\n",
    "center_subset_list.describe()"
   ]
  },
  {
   "cell_type": "code",
   "execution_count": null,
   "metadata": {
    "collapsed": true
   },
   "outputs": [],
   "source": [
    "# Question 17: (15 points) (both partners must participate)\n",
    "\n",
    "# 1. Create a group repository for the class project\n",
    "# 2. Add partner and instructor (@ategge) to the repository\n",
    "# 3. Decide on two complementary data sets to use in the project. \n",
    "#    Data sets are complimentary if they contain different information\n",
    "#    but have one column in common between the two data sets. For example,\n",
    "#    a data set on city crime rates and another data set on city census information.\n",
    "# 4. Create a Readme file (can be done automatically when publishing repo)\n",
    "#    that describes the data sets selected and the hypotheses/research questions\n",
    "#    to ask of the data.\n",
    "# 5. Both partners must make commits (with informative messages) to this repository\n",
    "#    prior to the homework deadline.\n",
    "# 6. Begin outlining the work required to complete the project and start assigning\n",
    "#    different tasks to each partner.\n",
    "# 7. Include the link to the repository below.\n",
    "https://github.com/mbecker3/M-J-class-project/blob/master/.ipynb_checkpoints/Untitled-checkpoint.ipynb"
   ]
  }
 ],
 "metadata": {
  "kernelspec": {
   "display_name": "Python 2",
   "language": "python",
   "name": "python2"
  },
  "language_info": {
   "codemirror_mode": {
    "name": "ipython",
    "version": 2
   },
   "file_extension": ".py",
   "mimetype": "text/x-python",
   "name": "python",
   "nbconvert_exporter": "python",
   "pygments_lexer": "ipython2",
   "version": "2.7.14"
  }
 },
 "nbformat": 4,
 "nbformat_minor": 2
}
